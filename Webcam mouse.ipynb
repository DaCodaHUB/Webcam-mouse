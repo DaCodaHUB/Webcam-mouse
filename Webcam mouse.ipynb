{
 "cells": [
  {
   "cell_type": "markdown",
   "metadata": {},
   "source": [
    "## Mini Project # 10 - Object Tracking"
   ]
  },
  {
   "cell_type": "code",
   "execution_count": 24,
   "metadata": {
    "collapsed": true,
    "scrolled": true
   },
   "outputs": [],
   "source": [
    "#Object Tracking\n",
    "import cv2\n",
    "import numpy as np\n",
    "import uinput\n",
    "\n",
    "device = uinput.Device([\n",
    "        uinput.BTN_LEFT,\n",
    "        uinput.BTN_RIGHT,\n",
    "        uinput.REL_X,\n",
    "        uinput.REL_Y,\n",
    "        ])\n",
    "\n",
    "# Initalize camera\n",
    "cap = cv2.VideoCapture(0)\n",
    "\n",
    "# define range of purple color in HSV\n",
    "# H: 0-180, S: 0-255, V: 0-255\n",
    "lower_red = np.array([0,150,100])\n",
    "upper_red = np.array([15,255,255])\n",
    "\n",
    "# Create empty points array\n",
    "points = []\n",
    "\n",
    "# Get default camera window size\n",
    "ret, frame = cap.read()\n",
    "Height, Width = frame.shape[:2] # 480x640\n",
    "frame_count = 0\n",
    "\n",
    "while True:\n",
    "\n",
    "    # Capture webcame frame\n",
    "    ret, frame = cap.read()\n",
    "    hsv_img = cv2.cvtColor(frame, cv2.COLOR_BGR2HSV)\n",
    "\n",
    "    # Threshold the HSV image to get only blue colors\n",
    "    mask = cv2.inRange(hsv_img, lower_red, upper_red)\n",
    "    #mask = cv2.morphologyEx(mask, cv2.MORPH_OPEN, kernel)\n",
    "    \n",
    "    # Find contours, OpenCV 3.X users use this line instead\n",
    "    #  _, contours, _ = cv2.findContours(mask.copy(), cv2.RETR_EXTERNAL, cv2.CHAIN_APPROX_SIMPLE)\n",
    "    _, contours, _ = cv2.findContours(mask.copy(), cv2.RETR_EXTERNAL, cv2.CHAIN_APPROX_SIMPLE)\n",
    "    \n",
    "    # Create empty centre array to store centroid center of mass\n",
    "    center =   int(Height/2), int(Width/2)\n",
    "\n",
    "    if len(contours) > 0:\n",
    "        \n",
    "        # Get the largest contour and its center \n",
    "        c = max(contours, key=cv2.contourArea)\n",
    "        (x, y), radius = cv2.minEnclosingCircle(c)\n",
    "        M = cv2.moments(c)\n",
    "        try:\n",
    "            center = (int(M[\"m10\"] / M[\"m00\"]), int(M[\"m01\"] / M[\"m00\"]))\n",
    "\n",
    "        except:\n",
    "            center =   int(Height/2), int(Width/2)\n",
    "\n",
    "        # Allow only countors that have a larger than 15 pixel radius\n",
    "        if radius > 25:\n",
    "            \n",
    "            # Draw cirlce\n",
    "            cv2.circle(frame, (int(x), int(y)), int(radius),(0, 0, 255), 2)\n",
    "    \n",
    "    if len(points) >= 5:\n",
    "        points_len = len(points)\n",
    "        X_cor = sum(cor[0] for cor in points[points_len-5:points_len]) /5\n",
    "        Y_cor = sum(cor[1] for cor in points[points_len-5:points_len]) /5\n",
    "        device.emit(uinput.REL_X, X_cor - points[len(points)-1][0])\n",
    "        device.emit(uinput.REL_Y, points[len(points)-1][1] - Y_cor)\n",
    "        \n",
    "    points.append(center)\n",
    "    \n",
    "    # Display our object tracker\n",
    "    frame = cv2.flip(frame, 1)\n",
    "    cv2.imshow(\"Object Tracker\", frame)\n",
    "\n",
    "    if cv2.waitKey(1) == 13: #13 is the Enter Key\n",
    "        break\n",
    "\n",
    "# Release camera and close any open windows\n",
    "cap.release()\n",
    "cv2.destroyAllWindows()"
   ]
  },
  {
   "cell_type": "code",
   "execution_count": null,
   "metadata": {
    "collapsed": true
   },
   "outputs": [],
   "source": []
  },
  {
   "cell_type": "code",
   "execution_count": null,
   "metadata": {
    "collapsed": true
   },
   "outputs": [],
   "source": []
  },
  {
   "cell_type": "code",
   "execution_count": null,
   "metadata": {
    "collapsed": true
   },
   "outputs": [],
   "source": []
  },
  {
   "cell_type": "code",
   "execution_count": null,
   "metadata": {
    "collapsed": true
   },
   "outputs": [],
   "source": []
  },
  {
   "cell_type": "code",
   "execution_count": null,
   "metadata": {
    "collapsed": true
   },
   "outputs": [],
   "source": []
  },
  {
   "cell_type": "code",
   "execution_count": null,
   "metadata": {
    "collapsed": true
   },
   "outputs": [],
   "source": []
  },
  {
   "cell_type": "code",
   "execution_count": null,
   "metadata": {
    "collapsed": true
   },
   "outputs": [],
   "source": []
  },
  {
   "cell_type": "code",
   "execution_count": null,
   "metadata": {
    "collapsed": true
   },
   "outputs": [],
   "source": []
  },
  {
   "cell_type": "code",
   "execution_count": null,
   "metadata": {
    "collapsed": true
   },
   "outputs": [],
   "source": []
  }
 ],
 "metadata": {
  "kernelspec": {
   "display_name": "Python 2",
   "language": "python",
   "name": "python2"
  },
  "language_info": {
   "codemirror_mode": {
    "name": "ipython",
    "version": 2
   },
   "file_extension": ".py",
   "mimetype": "text/x-python",
   "name": "python",
   "nbconvert_exporter": "python",
   "pygments_lexer": "ipython2",
   "version": "2.7.14"
  }
 },
 "nbformat": 4,
 "nbformat_minor": 1
}
